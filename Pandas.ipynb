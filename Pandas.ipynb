{
 "cells": [
  {
   "cell_type": "markdown",
   "id": "5cf93993-f42b-4cbf-84fa-877171fe929e",
   "metadata": {},
   "source": [
    "BASICS"
   ]
  },
  {
   "cell_type": "code",
   "execution_count": 359,
   "id": "2549ea7f-36b1-4a18-89ba-d2ff56914c03",
   "metadata": {},
   "outputs": [
    {
     "name": "stdout",
     "output_type": "stream",
     "text": [
      "0    10\n",
      "1    20\n",
      "2    30\n",
      "3    40\n",
      "4    50\n",
      "dtype: int64\n"
     ]
    }
   ],
   "source": [
    "import pandas as pd\n",
    "import numpy as np\n",
    "ser=pd.Series([10,20,30,40,50])\n",
    "# ser.dtype\n",
    "# ser.values\n",
    "print(ser)"
   ]
  },
  {
   "cell_type": "code",
   "execution_count": 361,
   "id": "331af33b-4b0e-4ef5-afee-cb93ee26d711",
   "metadata": {},
   "outputs": [
    {
     "data": {
      "text/plain": [
       "dtype('int64')"
      ]
     },
     "execution_count": 361,
     "metadata": {},
     "output_type": "execute_result"
    }
   ],
   "source": [
    "ser.values\n",
    "ser.dtype # HERE DATE TYPE IS IN OBJECT SO IN O/P IT REPRESENTS AS 'O'. IF IT IS INT MEANS 'int64'"
   ]
  },
  {
   "cell_type": "code",
   "execution_count": 363,
   "id": "09a6448a-140a-43e3-82bd-d807ac63358b",
   "metadata": {},
   "outputs": [
    {
     "data": {
      "text/plain": [
       "RangeIndex(start=0, stop=5, step=1)"
      ]
     },
     "execution_count": 363,
     "metadata": {},
     "output_type": "execute_result"
    }
   ],
   "source": [
    "ser.index\n"
   ]
  },
  {
   "cell_type": "code",
   "execution_count": 365,
   "id": "d9dc010c-abd0-4c35-8abe-4f0e97cab8a3",
   "metadata": {},
   "outputs": [
    {
     "name": "stdout",
     "output_type": "stream",
     "text": [
      "None\n"
     ]
    }
   ],
   "source": [
    "print(ser.name) # IF SER.NAME MEANS IT WILL NOT RETURN ANYTHING NO O/P. IF WE USE PRINT STATEMENTS THEN ONLY IT WILL PRINT"
   ]
  },
  {
   "cell_type": "code",
   "execution_count": 367,
   "id": "9331bc76-7f88-4960-b498-c8e236699f75",
   "metadata": {},
   "outputs": [
    {
     "name": "stdout",
     "output_type": "stream",
     "text": [
      "0    10\n",
      "1    20\n",
      "2    30\n",
      "3    40\n",
      "4    50\n",
      "Name: Prices, dtype: int64\n"
     ]
    }
   ],
   "source": [
    "ser.name=\"Prices\"\n",
    "print(ser)"
   ]
  },
  {
   "cell_type": "markdown",
   "id": "0244eec7-e424-40ef-8542-6f83aed1e5f0",
   "metadata": {},
   "source": [
    " INDEXING "
   ]
  },
  {
   "cell_type": "code",
   "execution_count": 370,
   "id": "1bb439d8-6fb7-4fc4-a84d-7fb42c435887",
   "metadata": {
    "scrolled": true
   },
   "outputs": [
    {
     "data": {
      "text/plain": [
       "0    10\n",
       "1    20\n",
       "2    30\n",
       "Name: Prices, dtype: int64"
      ]
     },
     "execution_count": 370,
     "metadata": {},
     "output_type": "execute_result"
    }
   ],
   "source": [
    "ser[0:3]"
   ]
  },
  {
   "cell_type": "code",
   "execution_count": 372,
   "id": "9d8dd3b0-a6a5-47e4-b064-346ccc9f6d21",
   "metadata": {},
   "outputs": [
    {
     "name": "stdout",
     "output_type": "stream",
     "text": [
      "40\n",
      "\n",
      "1    20\n",
      "3    40\n",
      "4    50\n",
      "Name: Prices, dtype: int64\n"
     ]
    }
   ],
   "source": [
    "print(ser.iloc[3]) # iloc--> IS LOCATION BASED INDEXING SINGLE VALUE ACCESSING\n",
    "print()\n",
    "print(ser.iloc[[1,3,4]]) # MUTLIPLE USING INDEX"
   ]
  },
  {
   "cell_type": "code",
   "execution_count": 374,
   "id": "ffe86c5f-81d4-464f-8f95-1db75055df63",
   "metadata": {},
   "outputs": [
    {
     "name": "stdout",
     "output_type": "stream",
     "text": [
      "banana       10\n",
      "orange       20\n",
      "blueberry    30\n",
      "jack         40\n",
      "berry        50\n",
      "Name: Prices, dtype: int64\n",
      "Index(['banana', 'orange', 'blueberry', 'jack', 'berry'], dtype='object')\n"
     ]
    }
   ],
   "source": [
    "index=[\"banana\", \"orange\", \"blueberry\", \"jack\", \"berry\"]\n",
    "ser.index=index # HERE WE ARE ASSINGING TO THAT \"ser\" INDEX TO OUR GIVEN INDEX SO IT CHANGES\n",
    "print(ser)\n",
    "print(ser.index)"
   ]
  },
  {
   "cell_type": "code",
   "execution_count": 376,
   "id": "65a9da27-3436-484d-9341-683b9c6b9785",
   "metadata": {},
   "outputs": [
    {
     "data": {
      "text/plain": [
       "30"
      ]
     },
     "execution_count": 376,
     "metadata": {},
     "output_type": "execute_result"
    }
   ],
   "source": [
    "ser.iloc[2]"
   ]
  },
  {
   "cell_type": "code",
   "execution_count": 378,
   "id": "1a8cace8-ba72-4c1e-b3f0-2fec8b72eda5",
   "metadata": {},
   "outputs": [
    {
     "data": {
      "text/plain": [
       "orange    20\n",
       "banana    10\n",
       "Name: Prices, dtype: int64"
      ]
     },
     "execution_count": 378,
     "metadata": {},
     "output_type": "execute_result"
    }
   ],
   "source": [
    "# loc --> LABEL BASED INDEXING.\n",
    "ser.loc[[\"orange\",\"banana\"]]"
   ]
  },
  {
   "cell_type": "code",
   "execution_count": 380,
   "id": "98f3b99a-552a-4367-905f-351f07288bcd",
   "metadata": {},
   "outputs": [
    {
     "data": {
      "text/plain": [
       "banana       10\n",
       "orange       20\n",
       "blueberry    30\n",
       "Name: Prices, dtype: int64"
      ]
     },
     "execution_count": 380,
     "metadata": {},
     "output_type": "execute_result"
    }
   ],
   "source": [
    "\n",
    "# IN LABEL BASED INDEXING YOUR START AS WELL AS STOP VALUE BOTH ARE INCLUDED IN THE O/P.\n",
    "ser ['banana':'blueberry']"
   ]
  },
  {
   "cell_type": "markdown",
   "id": "d82c6eaf-3461-49be-b220-cdeb126e8a22",
   "metadata": {},
   "source": [
    "CREATING SERIES USING DICT..."
   ]
  },
  {
   "cell_type": "code",
   "execution_count": 383,
   "id": "0fab4135-6cf0-43dd-aa83-0d7d87f1ab06",
   "metadata": {},
   "outputs": [],
   "source": [
    "fruit_price={\n",
    "    \"banana\":30,\n",
    "    \"grape\":20,\n",
    "    \"orange\":30,\n",
    "    \"apple\":40,\n",
    "    \"jack\":50,\n",
    "    \"berry\":10\n",
    "}"
   ]
  },
  {
   "cell_type": "code",
   "execution_count": 385,
   "id": "b80fc988-3b5b-497d-b7a6-14a379848cb8",
   "metadata": {
    "scrolled": true
   },
   "outputs": [
    {
     "name": "stdout",
     "output_type": "stream",
     "text": [
      "banana    30\n",
      "grape     20\n",
      "orange    30\n",
      "apple     40\n",
      "jack      50\n",
      "berry     10\n",
      "Name: Fruits, dtype: int64\n"
     ]
    }
   ],
   "source": [
    "ser1=pd.Series(fruit_price)\n",
    "ser1.name=\"Fruits\"\n",
    "print(ser1)"
   ]
  },
  {
   "cell_type": "markdown",
   "id": "be75a713-f417-4f84-b7ca-9bce1cfd5c90",
   "metadata": {},
   "source": [
    "CONDITIONAL SELECTION"
   ]
  },
  {
   "cell_type": "code",
   "execution_count": 388,
   "id": "32c9ffde-21a7-47f7-9e72-b173f4242230",
   "metadata": {
    "scrolled": true
   },
   "outputs": [
    {
     "data": {
      "text/plain": [
       "banana    30\n",
       "orange    30\n",
       "apple     40\n",
       "jack      50\n",
       "Name: Fruits, dtype: int64"
      ]
     },
     "execution_count": 388,
     "metadata": {},
     "output_type": "execute_result"
    }
   ],
   "source": [
    "# HERE I'M GOING TO SELECT THE FRUITS GREATER THAN OR EQUAL 30 RS. PRICE\n",
    "ser1[ser1>=30] #--> IT IS USED TO PRINT THAT PARTICULAR VALUE OR KEY\n",
    "\n",
    "# print(ser1>=30)"
   ]
  },
  {
   "cell_type": "markdown",
   "id": "5dcb91b4-8bd7-4040-a4d9-344285f19ee2",
   "metadata": {},
   "source": [
    "LOGICAL OPERATORS--> AND, OR, NOT"
   ]
  },
  {
   "cell_type": "code",
   "execution_count": 391,
   "id": "35b9e090-6db3-4fb4-9553-5b82383c7783",
   "metadata": {},
   "outputs": [
    {
     "data": {
      "text/plain": [
       "[banana     True\n",
       " grape      True\n",
       " orange     True\n",
       " apple     False\n",
       " jack      False\n",
       " berry      True\n",
       " Name: Fruits, dtype: bool]"
      ]
     },
     "execution_count": 391,
     "metadata": {},
     "output_type": "execute_result"
    }
   ],
   "source": [
    "[(ser1>=10) & (ser1<40)] #--> AND OPERATION"
   ]
  },
  {
   "cell_type": "code",
   "execution_count": 393,
   "id": "4f721454-b290-4857-b0e8-44b3b036ccc9",
   "metadata": {},
   "outputs": [
    {
     "data": {
      "text/plain": [
       "[banana    False\n",
       " grape      True\n",
       " orange    False\n",
       " apple      True\n",
       " jack       True\n",
       " berry      True\n",
       " Name: Fruits, dtype: bool]"
      ]
     },
     "execution_count": 393,
     "metadata": {},
     "output_type": "execute_result"
    }
   ],
   "source": [
    "[(ser1<=20) | (ser1>=40)] # OR operator"
   ]
  },
  {
   "cell_type": "code",
   "execution_count": 395,
   "id": "a9cbebec-d020-4504-9d1f-77fc086a7588",
   "metadata": {},
   "outputs": [
    {
     "data": {
      "text/plain": [
       "banana    30\n",
       "grape     20\n",
       "orange    30\n",
       "berry     10\n",
       "Name: Fruits, dtype: int64"
      ]
     },
     "execution_count": 395,
     "metadata": {},
     "output_type": "execute_result"
    }
   ],
   "source": [
    "ser1[~(ser1>30)] #NOT operator"
   ]
  },
  {
   "cell_type": "code",
   "execution_count": 397,
   "id": "ed691b6d-24ac-40d9-a981-5cdd27ac141c",
   "metadata": {},
   "outputs": [
    {
     "name": "stdout",
     "output_type": "stream",
     "text": [
      "banana    30\n",
      "grape     20\n",
      "orange    30\n",
      "apple     40\n",
      "jack      40\n",
      "berry     10\n",
      "Name: Fruits, dtype: int64\n"
     ]
    }
   ],
   "source": [
    "# MODIFYING DATA\n",
    "ser1[\"jack\"]=40         # as like list concept\n",
    "print(ser1)"
   ]
  },
  {
   "cell_type": "markdown",
   "id": "828f82cb-451b-46b2-8494-c0eaa62c934d",
   "metadata": {},
   "source": [
    "DATA FRAME"
   ]
  },
  {
   "cell_type": "code",
   "execution_count": 955,
   "id": "889787ee-b60d-4e2b-93ff-a99077e6d975",
   "metadata": {},
   "outputs": [
    {
     "name": "stdout",
     "output_type": "stream",
     "text": [
      "{'Names': ['logesh', 'nandhakishore', 'jothis', 'balaji', 'sairam', 'ezhil', 'prakash', 'sairam'], 'Age': [21, 25, nan, 2, 37, 10, 30, 37], 'Department': ['EEE', 'IT', 'ECE', 'MECH', 'CIVIL', 'CSE', 'AIML', 'CIVIL'], 'Salary': [50, 60, 45, 70, 68, nan, 55, 68]}\n"
     ]
    }
   ],
   "source": [
    "data={\n",
    "    \"Names\":[\"logesh\",\"nandhakishore\",\"jothis\",\"balaji\",\"sairam\",\"ezhil\",\"prakash\",\"sairam\"],\n",
    "    \"Age\":[21,25,np.nan,2,37,10,30,37],\n",
    "    \"Department\":[\"EEE\",\"IT\",\"ECE\",\"MECH\",\"CIVIL\",\"CSE\",\"AIML\",\"CIVIL\"],\n",
    "    \"Salary\":[50,60,45,70,68,np.nan,55,68]\n",
    "}\n",
    "print(data)"
   ]
  },
  {
   "cell_type": "code",
   "execution_count": 957,
   "id": "981154ed-6fc5-4dd2-94f3-965d0175cc3a",
   "metadata": {},
   "outputs": [
    {
     "name": "stdout",
     "output_type": "stream",
     "text": [
      "           Names   Age Department  Salary\n",
      "0         logesh  21.0        EEE    50.0\n",
      "1  nandhakishore  25.0         IT    60.0\n",
      "2         jothis   NaN        ECE    45.0\n",
      "3         balaji   2.0       MECH    70.0\n",
      "4         sairam  37.0      CIVIL    68.0\n",
      "5          ezhil  10.0        CSE     NaN\n",
      "6        prakash  30.0       AIML    55.0\n",
      "7         sairam  37.0      CIVIL    68.0\n"
     ]
    }
   ],
   "source": [
    "res=pd.DataFrame(data)\n",
    "print(res)\n",
    "# print(res)"
   ]
  },
  {
   "cell_type": "code",
   "execution_count": 959,
   "id": "e611cc17-d212-45b1-ab6a-a7971232a199",
   "metadata": {},
   "outputs": [
    {
     "data": {
      "text/html": [
       "<div>\n",
       "<style scoped>\n",
       "    .dataframe tbody tr th:only-of-type {\n",
       "        vertical-align: middle;\n",
       "    }\n",
       "\n",
       "    .dataframe tbody tr th {\n",
       "        vertical-align: top;\n",
       "    }\n",
       "\n",
       "    .dataframe thead th {\n",
       "        text-align: right;\n",
       "    }\n",
       "</style>\n",
       "<table border=\"1\" class=\"dataframe\">\n",
       "  <thead>\n",
       "    <tr style=\"text-align: right;\">\n",
       "      <th></th>\n",
       "      <th>Names</th>\n",
       "      <th>Age</th>\n",
       "      <th>Department</th>\n",
       "      <th>Salary</th>\n",
       "    </tr>\n",
       "  </thead>\n",
       "  <tbody>\n",
       "    <tr>\n",
       "      <th>0</th>\n",
       "      <td>logesh</td>\n",
       "      <td>21.0</td>\n",
       "      <td>EEE</td>\n",
       "      <td>50.0</td>\n",
       "    </tr>\n",
       "    <tr>\n",
       "      <th>1</th>\n",
       "      <td>nandhakishore</td>\n",
       "      <td>25.0</td>\n",
       "      <td>IT</td>\n",
       "      <td>60.0</td>\n",
       "    </tr>\n",
       "  </tbody>\n",
       "</table>\n",
       "</div>"
      ],
      "text/plain": [
       "           Names   Age Department  Salary\n",
       "0         logesh  21.0        EEE    50.0\n",
       "1  nandhakishore  25.0         IT    60.0"
      ]
     },
     "execution_count": 959,
     "metadata": {},
     "output_type": "execute_result"
    }
   ],
   "source": [
    "res.head(2)\n"
   ]
  },
  {
   "cell_type": "code",
   "execution_count": 961,
   "id": "4deca3ca-d526-4b84-9bf0-a514acea8e61",
   "metadata": {},
   "outputs": [
    {
     "data": {
      "text/html": [
       "<div>\n",
       "<style scoped>\n",
       "    .dataframe tbody tr th:only-of-type {\n",
       "        vertical-align: middle;\n",
       "    }\n",
       "\n",
       "    .dataframe tbody tr th {\n",
       "        vertical-align: top;\n",
       "    }\n",
       "\n",
       "    .dataframe thead th {\n",
       "        text-align: right;\n",
       "    }\n",
       "</style>\n",
       "<table border=\"1\" class=\"dataframe\">\n",
       "  <thead>\n",
       "    <tr style=\"text-align: right;\">\n",
       "      <th></th>\n",
       "      <th>Names</th>\n",
       "      <th>Age</th>\n",
       "      <th>Department</th>\n",
       "      <th>Salary</th>\n",
       "    </tr>\n",
       "  </thead>\n",
       "  <tbody>\n",
       "    <tr>\n",
       "      <th>6</th>\n",
       "      <td>prakash</td>\n",
       "      <td>30.0</td>\n",
       "      <td>AIML</td>\n",
       "      <td>55.0</td>\n",
       "    </tr>\n",
       "    <tr>\n",
       "      <th>7</th>\n",
       "      <td>sairam</td>\n",
       "      <td>37.0</td>\n",
       "      <td>CIVIL</td>\n",
       "      <td>68.0</td>\n",
       "    </tr>\n",
       "  </tbody>\n",
       "</table>\n",
       "</div>"
      ],
      "text/plain": [
       "     Names   Age Department  Salary\n",
       "6  prakash  30.0       AIML    55.0\n",
       "7   sairam  37.0      CIVIL    68.0"
      ]
     },
     "execution_count": 961,
     "metadata": {},
     "output_type": "execute_result"
    }
   ],
   "source": [
    "res.tail(2)"
   ]
  },
  {
   "cell_type": "code",
   "execution_count": 963,
   "id": "3824e69d-6d7e-49a2-9115-942ddc49bdd7",
   "metadata": {},
   "outputs": [
    {
     "data": {
      "text/html": [
       "<div>\n",
       "<style scoped>\n",
       "    .dataframe tbody tr th:only-of-type {\n",
       "        vertical-align: middle;\n",
       "    }\n",
       "\n",
       "    .dataframe tbody tr th {\n",
       "        vertical-align: top;\n",
       "    }\n",
       "\n",
       "    .dataframe thead th {\n",
       "        text-align: right;\n",
       "    }\n",
       "</style>\n",
       "<table border=\"1\" class=\"dataframe\">\n",
       "  <thead>\n",
       "    <tr style=\"text-align: right;\">\n",
       "      <th></th>\n",
       "      <th>Names</th>\n",
       "      <th>Age</th>\n",
       "    </tr>\n",
       "  </thead>\n",
       "  <tbody>\n",
       "    <tr>\n",
       "      <th>1</th>\n",
       "      <td>nandhakishore</td>\n",
       "      <td>25.0</td>\n",
       "    </tr>\n",
       "    <tr>\n",
       "      <th>2</th>\n",
       "      <td>jothis</td>\n",
       "      <td>NaN</td>\n",
       "    </tr>\n",
       "  </tbody>\n",
       "</table>\n",
       "</div>"
      ],
      "text/plain": [
       "           Names   Age\n",
       "1  nandhakishore  25.0\n",
       "2         jothis   NaN"
      ]
     },
     "execution_count": 963,
     "metadata": {},
     "output_type": "execute_result"
    }
   ],
   "source": [
    "res.iloc[1:3,:2] # THIS IS SLICING\n",
    "# IN THE ABOVE ONE :2 MEANS BEFORE COLON ADD ALL KEY:VALUE PAIR BEFORE THE 2 SO THE O/P LOOKS LIKE BELOW ONE"
   ]
  },
  {
   "cell_type": "code",
   "execution_count": 965,
   "id": "5b476ed7-ca8b-4671-8266-da2bc0f12de4",
   "metadata": {
    "scrolled": true
   },
   "outputs": [
    {
     "data": {
      "text/html": [
       "<div>\n",
       "<style scoped>\n",
       "    .dataframe tbody tr th:only-of-type {\n",
       "        vertical-align: middle;\n",
       "    }\n",
       "\n",
       "    .dataframe tbody tr th {\n",
       "        vertical-align: top;\n",
       "    }\n",
       "\n",
       "    .dataframe thead th {\n",
       "        text-align: right;\n",
       "    }\n",
       "</style>\n",
       "<table border=\"1\" class=\"dataframe\">\n",
       "  <thead>\n",
       "    <tr style=\"text-align: right;\">\n",
       "      <th></th>\n",
       "      <th>Age</th>\n",
       "      <th>Salary</th>\n",
       "    </tr>\n",
       "  </thead>\n",
       "  <tbody>\n",
       "    <tr>\n",
       "      <th>1</th>\n",
       "      <td>25.0</td>\n",
       "      <td>60.0</td>\n",
       "    </tr>\n",
       "    <tr>\n",
       "      <th>2</th>\n",
       "      <td>NaN</td>\n",
       "      <td>45.0</td>\n",
       "    </tr>\n",
       "    <tr>\n",
       "      <th>3</th>\n",
       "      <td>2.0</td>\n",
       "      <td>70.0</td>\n",
       "    </tr>\n",
       "  </tbody>\n",
       "</table>\n",
       "</div>"
      ],
      "text/plain": [
       "    Age  Salary\n",
       "1  25.0    60.0\n",
       "2   NaN    45.0\n",
       "3   2.0    70.0"
      ]
     },
     "execution_count": 965,
     "metadata": {},
     "output_type": "execute_result"
    }
   ],
   "source": [
    "res.loc[1:3,[\"Age\",\"Salary\"]] # THIS IS PICKING BASED ON OUR REQUIREMENT\n",
    "# WE NEED TO SELECT ROW AND COLUMN FOR THAT NEED TO  USE \":\"  COLON\n",
    "# COLUMN ARE KNOW AS FEATURES"
   ]
  },
  {
   "cell_type": "code",
   "execution_count": 967,
   "id": "34163c62-79cd-455b-8048-bd046d98dcf5",
   "metadata": {},
   "outputs": [
    {
     "data": {
      "text/html": [
       "<div>\n",
       "<style scoped>\n",
       "    .dataframe tbody tr th:only-of-type {\n",
       "        vertical-align: middle;\n",
       "    }\n",
       "\n",
       "    .dataframe tbody tr th {\n",
       "        vertical-align: top;\n",
       "    }\n",
       "\n",
       "    .dataframe thead th {\n",
       "        text-align: right;\n",
       "    }\n",
       "</style>\n",
       "<table border=\"1\" class=\"dataframe\">\n",
       "  <thead>\n",
       "    <tr style=\"text-align: right;\">\n",
       "      <th></th>\n",
       "      <th>Names</th>\n",
       "      <th>Department</th>\n",
       "    </tr>\n",
       "  </thead>\n",
       "  <tbody>\n",
       "    <tr>\n",
       "      <th>1</th>\n",
       "      <td>nandhakishore</td>\n",
       "      <td>IT</td>\n",
       "    </tr>\n",
       "    <tr>\n",
       "      <th>2</th>\n",
       "      <td>jothis</td>\n",
       "      <td>ECE</td>\n",
       "    </tr>\n",
       "    <tr>\n",
       "      <th>3</th>\n",
       "      <td>balaji</td>\n",
       "      <td>MECH</td>\n",
       "    </tr>\n",
       "  </tbody>\n",
       "</table>\n",
       "</div>"
      ],
      "text/plain": [
       "           Names Department\n",
       "1  nandhakishore         IT\n",
       "2         jothis        ECE\n",
       "3         balaji       MECH"
      ]
     },
     "execution_count": 967,
     "metadata": {},
     "output_type": "execute_result"
    }
   ],
   "source": [
    "res.loc[1:3,[\"Names\",\"Department\"]] # THIS IS PICKING BASED ON OUR REQUIREMENT"
   ]
  },
  {
   "cell_type": "code",
   "execution_count": 969,
   "id": "5c5e98ab-4a2b-404a-9aa3-06ca007e9fe9",
   "metadata": {},
   "outputs": [
    {
     "data": {
      "text/html": [
       "<div>\n",
       "<style scoped>\n",
       "    .dataframe tbody tr th:only-of-type {\n",
       "        vertical-align: middle;\n",
       "    }\n",
       "\n",
       "    .dataframe tbody tr th {\n",
       "        vertical-align: top;\n",
       "    }\n",
       "\n",
       "    .dataframe thead th {\n",
       "        text-align: right;\n",
       "    }\n",
       "</style>\n",
       "<table border=\"1\" class=\"dataframe\">\n",
       "  <thead>\n",
       "    <tr style=\"text-align: right;\">\n",
       "      <th></th>\n",
       "      <th>Names</th>\n",
       "      <th>Age</th>\n",
       "      <th>Salary</th>\n",
       "    </tr>\n",
       "  </thead>\n",
       "  <tbody>\n",
       "    <tr>\n",
       "      <th>0</th>\n",
       "      <td>logesh</td>\n",
       "      <td>21.0</td>\n",
       "      <td>50.0</td>\n",
       "    </tr>\n",
       "    <tr>\n",
       "      <th>1</th>\n",
       "      <td>nandhakishore</td>\n",
       "      <td>25.0</td>\n",
       "      <td>60.0</td>\n",
       "    </tr>\n",
       "    <tr>\n",
       "      <th>2</th>\n",
       "      <td>jothis</td>\n",
       "      <td>NaN</td>\n",
       "      <td>45.0</td>\n",
       "    </tr>\n",
       "    <tr>\n",
       "      <th>3</th>\n",
       "      <td>balaji</td>\n",
       "      <td>2.0</td>\n",
       "      <td>70.0</td>\n",
       "    </tr>\n",
       "    <tr>\n",
       "      <th>4</th>\n",
       "      <td>sairam</td>\n",
       "      <td>37.0</td>\n",
       "      <td>68.0</td>\n",
       "    </tr>\n",
       "    <tr>\n",
       "      <th>5</th>\n",
       "      <td>ezhil</td>\n",
       "      <td>10.0</td>\n",
       "      <td>NaN</td>\n",
       "    </tr>\n",
       "    <tr>\n",
       "      <th>6</th>\n",
       "      <td>prakash</td>\n",
       "      <td>30.0</td>\n",
       "      <td>55.0</td>\n",
       "    </tr>\n",
       "    <tr>\n",
       "      <th>7</th>\n",
       "      <td>sairam</td>\n",
       "      <td>37.0</td>\n",
       "      <td>68.0</td>\n",
       "    </tr>\n",
       "  </tbody>\n",
       "</table>\n",
       "</div>"
      ],
      "text/plain": [
       "           Names   Age  Salary\n",
       "0         logesh  21.0    50.0\n",
       "1  nandhakishore  25.0    60.0\n",
       "2         jothis   NaN    45.0\n",
       "3         balaji   2.0    70.0\n",
       "4         sairam  37.0    68.0\n",
       "5          ezhil  10.0     NaN\n",
       "6        prakash  30.0    55.0\n",
       "7         sairam  37.0    68.0"
      ]
     },
     "execution_count": 969,
     "metadata": {},
     "output_type": "execute_result"
    }
   ],
   "source": [
    "res.drop(\"Department\", axis=1) # THIS \"drop\" IS USED TO DELETE THE ENTIRE COLUMN BUT IT WON'T AFFECT THE ORIGINAL DATA"
   ]
  },
  {
   "cell_type": "code",
   "execution_count": 971,
   "id": "5f65ca2d-9804-4653-9553-f97cf88bb322",
   "metadata": {},
   "outputs": [],
   "source": [
    "# res.drop(\"Department\", axis=1, inplace=True) # THIS \"inplace\" METHOD IS USED TO DELECTE THE ENTIRE COLUMN IN ORIGINAL DATASET ITSELF"
   ]
  },
  {
   "cell_type": "code",
   "execution_count": 973,
   "id": "4ba46202-33ec-4a14-a309-58d7bcba0ccf",
   "metadata": {},
   "outputs": [
    {
     "name": "stdout",
     "output_type": "stream",
     "text": [
      "           Names   Age Department  Salary\n",
      "0         logesh  21.0        EEE    50.0\n",
      "1  nandhakishore  25.0         IT    60.0\n",
      "2         jothis   NaN        ECE    45.0\n",
      "3         balaji   2.0       MECH    70.0\n",
      "4         sairam  37.0      CIVIL    68.0\n",
      "5          ezhil  10.0        CSE     NaN\n",
      "6        prakash  30.0       AIML    55.0\n",
      "7         sairam  37.0      CIVIL    68.0\n",
      "This gives the row and columns present in dataset:  (8, 4)\n"
     ]
    }
   ],
   "source": [
    "print(res)\n",
    "print(\"This gives the row and columns present in dataset: \",res.shape)"
   ]
  },
  {
   "cell_type": "code",
   "execution_count": 975,
   "id": "6d4911ce-e1e9-43d0-b52e-5038e4600d39",
   "metadata": {},
   "outputs": [
    {
     "name": "stdout",
     "output_type": "stream",
     "text": [
      "<class 'pandas.core.frame.DataFrame'>\n",
      "RangeIndex: 8 entries, 0 to 7\n",
      "Data columns (total 4 columns):\n",
      " #   Column      Non-Null Count  Dtype  \n",
      "---  ------      --------------  -----  \n",
      " 0   Names       8 non-null      object \n",
      " 1   Age         7 non-null      float64\n",
      " 2   Department  8 non-null      object \n",
      " 3   Salary      7 non-null      float64\n",
      "dtypes: float64(2), object(2)\n",
      "memory usage: 388.0+ bytes\n"
     ]
    }
   ],
   "source": [
    "res.info() # THIS WILL GIVE ENITRE DATASET VAULES WHICH WE USED"
   ]
  },
  {
   "cell_type": "code",
   "execution_count": 977,
   "id": "fc3f41bc-d16b-4419-8f5a-16fb9974982c",
   "metadata": {},
   "outputs": [
    {
     "data": {
      "text/html": [
       "<div>\n",
       "<style scoped>\n",
       "    .dataframe tbody tr th:only-of-type {\n",
       "        vertical-align: middle;\n",
       "    }\n",
       "\n",
       "    .dataframe tbody tr th {\n",
       "        vertical-align: top;\n",
       "    }\n",
       "\n",
       "    .dataframe thead th {\n",
       "        text-align: right;\n",
       "    }\n",
       "</style>\n",
       "<table border=\"1\" class=\"dataframe\">\n",
       "  <thead>\n",
       "    <tr style=\"text-align: right;\">\n",
       "      <th></th>\n",
       "      <th>Age</th>\n",
       "      <th>Salary</th>\n",
       "    </tr>\n",
       "  </thead>\n",
       "  <tbody>\n",
       "    <tr>\n",
       "      <th>count</th>\n",
       "      <td>7.000000</td>\n",
       "      <td>7.000000</td>\n",
       "    </tr>\n",
       "    <tr>\n",
       "      <th>mean</th>\n",
       "      <td>23.142857</td>\n",
       "      <td>59.428571</td>\n",
       "    </tr>\n",
       "    <tr>\n",
       "      <th>std</th>\n",
       "      <td>13.284434</td>\n",
       "      <td>9.795529</td>\n",
       "    </tr>\n",
       "    <tr>\n",
       "      <th>min</th>\n",
       "      <td>2.000000</td>\n",
       "      <td>45.000000</td>\n",
       "    </tr>\n",
       "    <tr>\n",
       "      <th>25%</th>\n",
       "      <td>15.500000</td>\n",
       "      <td>52.500000</td>\n",
       "    </tr>\n",
       "    <tr>\n",
       "      <th>50%</th>\n",
       "      <td>25.000000</td>\n",
       "      <td>60.000000</td>\n",
       "    </tr>\n",
       "    <tr>\n",
       "      <th>75%</th>\n",
       "      <td>33.500000</td>\n",
       "      <td>68.000000</td>\n",
       "    </tr>\n",
       "    <tr>\n",
       "      <th>max</th>\n",
       "      <td>37.000000</td>\n",
       "      <td>70.000000</td>\n",
       "    </tr>\n",
       "  </tbody>\n",
       "</table>\n",
       "</div>"
      ],
      "text/plain": [
       "             Age     Salary\n",
       "count   7.000000   7.000000\n",
       "mean   23.142857  59.428571\n",
       "std    13.284434   9.795529\n",
       "min     2.000000  45.000000\n",
       "25%    15.500000  52.500000\n",
       "50%    25.000000  60.000000\n",
       "75%    33.500000  68.000000\n",
       "max    37.000000  70.000000"
      ]
     },
     "execution_count": 977,
     "metadata": {},
     "output_type": "execute_result"
    }
   ],
   "source": [
    "res.describe() # THIS ONE IS USED TO GIVE INFO ABOUT OUR DATASET\n",
    "# TOTAL IS --> 7, MEAN VALUE IS: 20, STANDARD DEVIATION IS 12 AND SO ON.."
   ]
  },
  {
   "cell_type": "code",
   "execution_count": 979,
   "id": "e852e57d-e304-46cc-b23b-3bac1ea6fa6d",
   "metadata": {},
   "outputs": [
    {
     "name": "stdout",
     "output_type": "stream",
     "text": [
      "           Names   Age Department  Salary\n",
      "0         logesh  21.0        EEE   100.0\n",
      "1  nandhakishore  25.0         IT   110.0\n",
      "2         jothis   NaN        ECE    95.0\n",
      "3         balaji   2.0       MECH   120.0\n",
      "4         sairam  37.0      CIVIL   118.0\n",
      "5          ezhil  10.0        CSE     NaN\n",
      "6        prakash  30.0       AIML   105.0\n",
      "7         sairam  37.0      CIVIL   118.0 \n",
      "\n",
      "0    100.0\n",
      "1    110.0\n",
      "2     95.0\n",
      "3    120.0\n",
      "4    118.0\n",
      "5      NaN\n",
      "6    105.0\n",
      "7    118.0\n",
      "Name: Salary, dtype: float64\n",
      "\n",
      "              Age      Salary\n",
      "count   7.000000    7.000000\n",
      "mean   23.142857  109.428571\n",
      "std    13.284434    9.795529\n",
      "min     2.000000   95.000000\n",
      "25%    15.500000  102.500000\n",
      "50%    25.000000  110.000000\n",
      "75%    33.500000  118.000000\n",
      "max    37.000000  120.000000\n"
     ]
    }
   ],
   "source": [
    "# WHERE I NEED TO INCREASE THE SALARY OF EVERYONE BY 50 \n",
    "res[\"Salary\"]=res[\"Salary\"]+50\n",
    "print(res,\"\\n\")\n",
    "print(res[\"Salary\"])\n",
    "print(\"\\n\",res.describe())"
   ]
  },
  {
   "cell_type": "code",
   "execution_count": 981,
   "id": "4246896a-0467-4027-a811-624c997c7f3a",
   "metadata": {},
   "outputs": [
    {
     "name": "stdout",
     "output_type": "stream",
     "text": [
      "           Names   Age   Dept  Salary\n",
      "0         logesh  21.0    EEE   100.0\n",
      "1  nandhakishore  25.0     IT   110.0\n",
      "2         jothis   NaN    ECE    95.0\n",
      "3         balaji   2.0   MECH   120.0\n",
      "4         sairam  37.0  CIVIL   118.0\n",
      "5          ezhil  10.0    CSE     NaN\n",
      "6        prakash  30.0   AIML   105.0\n",
      "7         sairam  37.0  CIVIL   118.0\n"
     ]
    }
   ],
   "source": [
    "# RENAMING COLUMN as like in dictionary but here we need to mention which one column or row here we rename column\n",
    "res.rename(columns={\"Department\":\"Dept\"},inplace=True) \n",
    "print(res)"
   ]
  },
  {
   "cell_type": "code",
   "execution_count": 983,
   "id": "4759146b-d1c6-4b33-bcd2-857b42e01221",
   "metadata": {},
   "outputs": [
    {
     "name": "stdout",
     "output_type": "stream",
     "text": [
      "The unique dept ine company:  ['EEE' 'IT' 'ECE' 'MECH' 'CIVIL' 'CSE' 'AIML']\n",
      "The unique salary offered:  [100. 110.  95. 120. 118.  nan 105.]\n"
     ]
    }
   ],
   "source": [
    "print(\"The unique dept ine company: \",res[\"Dept\"].unique())\n",
    "print(\"The unique salary offered: \",res[\"Salary\"].unique())"
   ]
  },
  {
   "cell_type": "code",
   "execution_count": 985,
   "id": "793588c3-a36f-4b78-afad-c7d0814d72b9",
   "metadata": {},
   "outputs": [
    {
     "data": {
      "text/plain": [
       "Dept\n",
       "CIVIL    2\n",
       "EEE      1\n",
       "IT       1\n",
       "ECE      1\n",
       "MECH     1\n",
       "CSE      1\n",
       "AIML     1\n",
       "Name: count, dtype: int64"
      ]
     },
     "execution_count": 985,
     "metadata": {},
     "output_type": "execute_result"
    }
   ],
   "source": [
    "res[\"Dept\"].value_counts()"
   ]
  },
  {
   "cell_type": "code",
   "execution_count": 987,
   "id": "9c00e66c-6e61-41cc-942d-e46076ebbc70",
   "metadata": {
    "scrolled": true
   },
   "outputs": [
    {
     "name": "stdout",
     "output_type": "stream",
     "text": [
      "           Names   Age   Dept  Salary  Promot\n",
      "0         logesh  21.0    EEE   100.0  1000.0\n",
      "1  nandhakishore  25.0     IT   110.0  1100.0\n",
      "2         jothis   NaN    ECE    95.0   950.0\n",
      "3         balaji   2.0   MECH   120.0  1200.0\n",
      "4         sairam  37.0  CIVIL   118.0  1180.0\n",
      "5          ezhil  10.0    CSE     NaN     NaN\n",
      "6        prakash  30.0   AIML   105.0  1050.0\n",
      "7         sairam  37.0  CIVIL   118.0  1180.0\n"
     ]
    }
   ],
   "source": [
    "res[\"Promoted salary\"]=res[\"Salary\"]*10\n",
    "res.rename(columns={\"Promoted salary\": \"Promot\"},inplace=True)\n",
    "print(res)"
   ]
  },
  {
   "cell_type": "code",
   "execution_count": 989,
   "id": "2bb11052-1250-4858-82f5-71475158ceac",
   "metadata": {},
   "outputs": [
    {
     "data": {
      "text/plain": [
       "Names     0\n",
       "Age       1\n",
       "Dept      0\n",
       "Salary    1\n",
       "Promot    1\n",
       "dtype: int64"
      ]
     },
     "execution_count": 989,
     "metadata": {},
     "output_type": "execute_result"
    }
   ],
   "source": [
    "# DATA CLEANING\n",
    "res.isnull().sum()"
   ]
  },
  {
   "cell_type": "code",
   "execution_count": 991,
   "id": "19c2d499-3cbe-43ef-ad3a-ea2bec134820",
   "metadata": {},
   "outputs": [
    {
     "data": {
      "text/html": [
       "<div>\n",
       "<style scoped>\n",
       "    .dataframe tbody tr th:only-of-type {\n",
       "        vertical-align: middle;\n",
       "    }\n",
       "\n",
       "    .dataframe tbody tr th {\n",
       "        vertical-align: top;\n",
       "    }\n",
       "\n",
       "    .dataframe thead th {\n",
       "        text-align: right;\n",
       "    }\n",
       "</style>\n",
       "<table border=\"1\" class=\"dataframe\">\n",
       "  <thead>\n",
       "    <tr style=\"text-align: right;\">\n",
       "      <th></th>\n",
       "      <th>Names</th>\n",
       "      <th>Age</th>\n",
       "      <th>Dept</th>\n",
       "      <th>Salary</th>\n",
       "      <th>Promot</th>\n",
       "    </tr>\n",
       "  </thead>\n",
       "  <tbody>\n",
       "    <tr>\n",
       "      <th>0</th>\n",
       "      <td>logesh</td>\n",
       "      <td>21.0</td>\n",
       "      <td>EEE</td>\n",
       "      <td>100.0</td>\n",
       "      <td>1000.0</td>\n",
       "    </tr>\n",
       "    <tr>\n",
       "      <th>1</th>\n",
       "      <td>nandhakishore</td>\n",
       "      <td>25.0</td>\n",
       "      <td>IT</td>\n",
       "      <td>110.0</td>\n",
       "      <td>1100.0</td>\n",
       "    </tr>\n",
       "    <tr>\n",
       "      <th>3</th>\n",
       "      <td>balaji</td>\n",
       "      <td>2.0</td>\n",
       "      <td>MECH</td>\n",
       "      <td>120.0</td>\n",
       "      <td>1200.0</td>\n",
       "    </tr>\n",
       "    <tr>\n",
       "      <th>4</th>\n",
       "      <td>sairam</td>\n",
       "      <td>37.0</td>\n",
       "      <td>CIVIL</td>\n",
       "      <td>118.0</td>\n",
       "      <td>1180.0</td>\n",
       "    </tr>\n",
       "    <tr>\n",
       "      <th>6</th>\n",
       "      <td>prakash</td>\n",
       "      <td>30.0</td>\n",
       "      <td>AIML</td>\n",
       "      <td>105.0</td>\n",
       "      <td>1050.0</td>\n",
       "    </tr>\n",
       "    <tr>\n",
       "      <th>7</th>\n",
       "      <td>sairam</td>\n",
       "      <td>37.0</td>\n",
       "      <td>CIVIL</td>\n",
       "      <td>118.0</td>\n",
       "      <td>1180.0</td>\n",
       "    </tr>\n",
       "  </tbody>\n",
       "</table>\n",
       "</div>"
      ],
      "text/plain": [
       "           Names   Age   Dept  Salary  Promot\n",
       "0         logesh  21.0    EEE   100.0  1000.0\n",
       "1  nandhakishore  25.0     IT   110.0  1100.0\n",
       "3         balaji   2.0   MECH   120.0  1200.0\n",
       "4         sairam  37.0  CIVIL   118.0  1180.0\n",
       "6        prakash  30.0   AIML   105.0  1050.0\n",
       "7         sairam  37.0  CIVIL   118.0  1180.0"
      ]
     },
     "execution_count": 991,
     "metadata": {},
     "output_type": "execute_result"
    }
   ],
   "source": [
    "res.dropna(how=\"any\") # any row that had any null value"
   ]
  },
  {
   "cell_type": "code",
   "execution_count": 993,
   "id": "8a582e61-be82-4ed0-aae9-23ecdd06fbd7",
   "metadata": {},
   "outputs": [
    {
     "data": {
      "text/html": [
       "<div>\n",
       "<style scoped>\n",
       "    .dataframe tbody tr th:only-of-type {\n",
       "        vertical-align: middle;\n",
       "    }\n",
       "\n",
       "    .dataframe tbody tr th {\n",
       "        vertical-align: top;\n",
       "    }\n",
       "\n",
       "    .dataframe thead th {\n",
       "        text-align: right;\n",
       "    }\n",
       "</style>\n",
       "<table border=\"1\" class=\"dataframe\">\n",
       "  <thead>\n",
       "    <tr style=\"text-align: right;\">\n",
       "      <th></th>\n",
       "      <th>Names</th>\n",
       "      <th>Age</th>\n",
       "      <th>Dept</th>\n",
       "      <th>Salary</th>\n",
       "      <th>Promot</th>\n",
       "    </tr>\n",
       "  </thead>\n",
       "  <tbody>\n",
       "    <tr>\n",
       "      <th>0</th>\n",
       "      <td>logesh</td>\n",
       "      <td>21.0</td>\n",
       "      <td>EEE</td>\n",
       "      <td>100.0</td>\n",
       "      <td>1000.0</td>\n",
       "    </tr>\n",
       "    <tr>\n",
       "      <th>1</th>\n",
       "      <td>nandhakishore</td>\n",
       "      <td>25.0</td>\n",
       "      <td>IT</td>\n",
       "      <td>110.0</td>\n",
       "      <td>1100.0</td>\n",
       "    </tr>\n",
       "    <tr>\n",
       "      <th>2</th>\n",
       "      <td>jothis</td>\n",
       "      <td>NaN</td>\n",
       "      <td>ECE</td>\n",
       "      <td>95.0</td>\n",
       "      <td>950.0</td>\n",
       "    </tr>\n",
       "    <tr>\n",
       "      <th>3</th>\n",
       "      <td>balaji</td>\n",
       "      <td>2.0</td>\n",
       "      <td>MECH</td>\n",
       "      <td>120.0</td>\n",
       "      <td>1200.0</td>\n",
       "    </tr>\n",
       "    <tr>\n",
       "      <th>4</th>\n",
       "      <td>sairam</td>\n",
       "      <td>37.0</td>\n",
       "      <td>CIVIL</td>\n",
       "      <td>118.0</td>\n",
       "      <td>1180.0</td>\n",
       "    </tr>\n",
       "    <tr>\n",
       "      <th>5</th>\n",
       "      <td>ezhil</td>\n",
       "      <td>10.0</td>\n",
       "      <td>CSE</td>\n",
       "      <td>NaN</td>\n",
       "      <td>NaN</td>\n",
       "    </tr>\n",
       "    <tr>\n",
       "      <th>6</th>\n",
       "      <td>prakash</td>\n",
       "      <td>30.0</td>\n",
       "      <td>AIML</td>\n",
       "      <td>105.0</td>\n",
       "      <td>1050.0</td>\n",
       "    </tr>\n",
       "    <tr>\n",
       "      <th>7</th>\n",
       "      <td>sairam</td>\n",
       "      <td>37.0</td>\n",
       "      <td>CIVIL</td>\n",
       "      <td>118.0</td>\n",
       "      <td>1180.0</td>\n",
       "    </tr>\n",
       "  </tbody>\n",
       "</table>\n",
       "</div>"
      ],
      "text/plain": [
       "           Names   Age   Dept  Salary  Promot\n",
       "0         logesh  21.0    EEE   100.0  1000.0\n",
       "1  nandhakishore  25.0     IT   110.0  1100.0\n",
       "2         jothis   NaN    ECE    95.0   950.0\n",
       "3         balaji   2.0   MECH   120.0  1200.0\n",
       "4         sairam  37.0  CIVIL   118.0  1180.0\n",
       "5          ezhil  10.0    CSE     NaN     NaN\n",
       "6        prakash  30.0   AIML   105.0  1050.0\n",
       "7         sairam  37.0  CIVIL   118.0  1180.0"
      ]
     },
     "execution_count": 993,
     "metadata": {},
     "output_type": "execute_result"
    }
   ],
   "source": [
    "res.dropna(how=\"all\") #display all values using \"all\""
   ]
  },
  {
   "cell_type": "code",
   "execution_count": 995,
   "id": "6d656499-1a3a-46f7-a303-1a10babada55",
   "metadata": {},
   "outputs": [
    {
     "data": {
      "text/plain": [
       "0    21.000000\n",
       "1    25.000000\n",
       "2    23.142857\n",
       "3     2.000000\n",
       "4    37.000000\n",
       "5    10.000000\n",
       "6    30.000000\n",
       "7    37.000000\n",
       "Name: Age, dtype: float64"
      ]
     },
     "execution_count": 995,
     "metadata": {},
     "output_type": "execute_result"
    }
   ],
   "source": [
    "res[\"Age\"].fillna(res[\"Age\"].mean())"
   ]
  },
  {
   "cell_type": "code",
   "execution_count": 997,
   "id": "70f6163f-e643-423a-b392-256e060f4532",
   "metadata": {},
   "outputs": [
    {
     "data": {
      "text/plain": [
       "0    100.0\n",
       "1    110.0\n",
       "2     95.0\n",
       "3    120.0\n",
       "4    118.0\n",
       "5    110.0\n",
       "6    105.0\n",
       "7    118.0\n",
       "Name: Salary, dtype: float64"
      ]
     },
     "execution_count": 997,
     "metadata": {},
     "output_type": "execute_result"
    }
   ],
   "source": [
    "res[\"Salary\"].fillna(res[\"Salary\"].median())"
   ]
  },
  {
   "cell_type": "code",
   "execution_count": 999,
   "id": "2127bb90-5345-402f-b67b-f6b2224138a1",
   "metadata": {},
   "outputs": [
    {
     "data": {
      "text/plain": [
       "0    21.0\n",
       "1    25.0\n",
       "2     2.0\n",
       "3     2.0\n",
       "4    37.0\n",
       "5    10.0\n",
       "6    30.0\n",
       "7    37.0\n",
       "Name: Age, dtype: float64"
      ]
     },
     "execution_count": 999,
     "metadata": {},
     "output_type": "execute_result"
    }
   ],
   "source": [
    "res[\"Age\"].fillna(res[\"Age\"].bfill())\n"
   ]
  },
  {
   "cell_type": "code",
   "execution_count": 1001,
   "id": "77491e0b-9bbb-4769-b9d8-06421d47485a",
   "metadata": {},
   "outputs": [
    {
     "name": "stdout",
     "output_type": "stream",
     "text": [
      "           Names   Age   Dept  Salary  Promot\n",
      "0         logesh  21.0    EEE   100.0  1000.0\n",
      "1  nandhakishore  25.0     IT   110.0  1100.0\n",
      "2         jothis   NaN    ECE    95.0   950.0\n",
      "3           Podi   2.0   MECH   120.0  1200.0\n",
      "4         sairam  37.0  CIVIL   118.0  1180.0\n",
      "5          ezhil  10.0    CSE     NaN     NaN\n",
      "6        prakash  30.0   AIML   105.0  1050.0\n",
      "7         sairam  37.0  CIVIL   118.0  1180.0\n"
     ]
    }
   ],
   "source": [
    "res[\"Names\"] = res[\"Names\"].replace(\"balaji\",\"Podi\")\n",
    "print(res)"
   ]
  },
  {
   "cell_type": "markdown",
   "id": "00f5c47e-82ab-4724-b2fe-7daa376827c1",
   "metadata": {},
   "source": [
    "REMOVING DUPLICATES"
   ]
  },
  {
   "cell_type": "code",
   "execution_count": 1004,
   "id": "a9dd6f24-6b63-4e5e-8358-7643e5d4c2fa",
   "metadata": {
    "scrolled": true
   },
   "outputs": [
    {
     "data": {
      "text/html": [
       "<div>\n",
       "<style scoped>\n",
       "    .dataframe tbody tr th:only-of-type {\n",
       "        vertical-align: middle;\n",
       "    }\n",
       "\n",
       "    .dataframe tbody tr th {\n",
       "        vertical-align: top;\n",
       "    }\n",
       "\n",
       "    .dataframe thead th {\n",
       "        text-align: right;\n",
       "    }\n",
       "</style>\n",
       "<table border=\"1\" class=\"dataframe\">\n",
       "  <thead>\n",
       "    <tr style=\"text-align: right;\">\n",
       "      <th></th>\n",
       "      <th>Names</th>\n",
       "      <th>Age</th>\n",
       "      <th>Dept</th>\n",
       "      <th>Salary</th>\n",
       "      <th>Promot</th>\n",
       "    </tr>\n",
       "  </thead>\n",
       "  <tbody>\n",
       "    <tr>\n",
       "      <th>7</th>\n",
       "      <td>sairam</td>\n",
       "      <td>37.0</td>\n",
       "      <td>CIVIL</td>\n",
       "      <td>118.0</td>\n",
       "      <td>1180.0</td>\n",
       "    </tr>\n",
       "  </tbody>\n",
       "</table>\n",
       "</div>"
      ],
      "text/plain": [
       "    Names   Age   Dept  Salary  Promot\n",
       "7  sairam  37.0  CIVIL   118.0  1180.0"
      ]
     },
     "execution_count": 1004,
     "metadata": {},
     "output_type": "execute_result"
    }
   ],
   "source": [
    "res_dup=res[res.duplicated()]\n",
    "res_dup"
   ]
  },
  {
   "cell_type": "code",
   "execution_count": 1006,
   "id": "a2437ae3-cd12-466b-bc40-9bf29289305c",
   "metadata": {},
   "outputs": [
    {
     "data": {
      "text/html": [
       "<div>\n",
       "<style scoped>\n",
       "    .dataframe tbody tr th:only-of-type {\n",
       "        vertical-align: middle;\n",
       "    }\n",
       "\n",
       "    .dataframe tbody tr th {\n",
       "        vertical-align: top;\n",
       "    }\n",
       "\n",
       "    .dataframe thead th {\n",
       "        text-align: right;\n",
       "    }\n",
       "</style>\n",
       "<table border=\"1\" class=\"dataframe\">\n",
       "  <thead>\n",
       "    <tr style=\"text-align: right;\">\n",
       "      <th></th>\n",
       "      <th>Names</th>\n",
       "      <th>Age</th>\n",
       "      <th>Dept</th>\n",
       "      <th>Salary</th>\n",
       "      <th>Promot</th>\n",
       "    </tr>\n",
       "  </thead>\n",
       "  <tbody>\n",
       "    <tr>\n",
       "      <th>4</th>\n",
       "      <td>sairam</td>\n",
       "      <td>37.0</td>\n",
       "      <td>CIVIL</td>\n",
       "      <td>118.0</td>\n",
       "      <td>1180.0</td>\n",
       "    </tr>\n",
       "  </tbody>\n",
       "</table>\n",
       "</div>"
      ],
      "text/plain": [
       "    Names   Age   Dept  Salary  Promot\n",
       "4  sairam  37.0  CIVIL   118.0  1180.0"
      ]
     },
     "execution_count": 1006,
     "metadata": {},
     "output_type": "execute_result"
    }
   ],
   "source": [
    "res_dup=res[res.duplicated(keep=\"last\")]\n",
    "res_dup"
   ]
  },
  {
   "cell_type": "code",
   "execution_count": 1008,
   "id": "4bfc648a-01be-45c8-9390-efaf6e717707",
   "metadata": {},
   "outputs": [
    {
     "data": {
      "text/html": [
       "<div>\n",
       "<style scoped>\n",
       "    .dataframe tbody tr th:only-of-type {\n",
       "        vertical-align: middle;\n",
       "    }\n",
       "\n",
       "    .dataframe tbody tr th {\n",
       "        vertical-align: top;\n",
       "    }\n",
       "\n",
       "    .dataframe thead th {\n",
       "        text-align: right;\n",
       "    }\n",
       "</style>\n",
       "<table border=\"1\" class=\"dataframe\">\n",
       "  <thead>\n",
       "    <tr style=\"text-align: right;\">\n",
       "      <th></th>\n",
       "      <th>Names</th>\n",
       "      <th>Age</th>\n",
       "      <th>Dept</th>\n",
       "      <th>Salary</th>\n",
       "      <th>Promot</th>\n",
       "    </tr>\n",
       "  </thead>\n",
       "  <tbody>\n",
       "    <tr>\n",
       "      <th>0</th>\n",
       "      <td>logesh</td>\n",
       "      <td>21.0</td>\n",
       "      <td>EEE</td>\n",
       "      <td>100.0</td>\n",
       "      <td>1000.0</td>\n",
       "    </tr>\n",
       "    <tr>\n",
       "      <th>1</th>\n",
       "      <td>nandhakishore</td>\n",
       "      <td>25.0</td>\n",
       "      <td>IT</td>\n",
       "      <td>110.0</td>\n",
       "      <td>1100.0</td>\n",
       "    </tr>\n",
       "    <tr>\n",
       "      <th>2</th>\n",
       "      <td>jothis</td>\n",
       "      <td>NaN</td>\n",
       "      <td>ECE</td>\n",
       "      <td>95.0</td>\n",
       "      <td>950.0</td>\n",
       "    </tr>\n",
       "    <tr>\n",
       "      <th>3</th>\n",
       "      <td>Podi</td>\n",
       "      <td>2.0</td>\n",
       "      <td>MECH</td>\n",
       "      <td>120.0</td>\n",
       "      <td>1200.0</td>\n",
       "    </tr>\n",
       "    <tr>\n",
       "      <th>4</th>\n",
       "      <td>sairam</td>\n",
       "      <td>37.0</td>\n",
       "      <td>CIVIL</td>\n",
       "      <td>118.0</td>\n",
       "      <td>1180.0</td>\n",
       "    </tr>\n",
       "    <tr>\n",
       "      <th>5</th>\n",
       "      <td>ezhil</td>\n",
       "      <td>10.0</td>\n",
       "      <td>CSE</td>\n",
       "      <td>NaN</td>\n",
       "      <td>NaN</td>\n",
       "    </tr>\n",
       "    <tr>\n",
       "      <th>6</th>\n",
       "      <td>prakash</td>\n",
       "      <td>30.0</td>\n",
       "      <td>AIML</td>\n",
       "      <td>105.0</td>\n",
       "      <td>1050.0</td>\n",
       "    </tr>\n",
       "    <tr>\n",
       "      <th>7</th>\n",
       "      <td>sairam</td>\n",
       "      <td>37.0</td>\n",
       "      <td>CIVIL</td>\n",
       "      <td>118.0</td>\n",
       "      <td>1180.0</td>\n",
       "    </tr>\n",
       "  </tbody>\n",
       "</table>\n",
       "</div>"
      ],
      "text/plain": [
       "           Names   Age   Dept  Salary  Promot\n",
       "0         logesh  21.0    EEE   100.0  1000.0\n",
       "1  nandhakishore  25.0     IT   110.0  1100.0\n",
       "2         jothis   NaN    ECE    95.0   950.0\n",
       "3           Podi   2.0   MECH   120.0  1200.0\n",
       "4         sairam  37.0  CIVIL   118.0  1180.0\n",
       "5          ezhil  10.0    CSE     NaN     NaN\n",
       "6        prakash  30.0   AIML   105.0  1050.0\n",
       "7         sairam  37.0  CIVIL   118.0  1180.0"
      ]
     },
     "execution_count": 1008,
     "metadata": {},
     "output_type": "execute_result"
    }
   ],
   "source": [
    "res"
   ]
  },
  {
   "cell_type": "code",
   "execution_count": 1010,
   "id": "99d338de-97d7-44e2-845e-6e470598b9da",
   "metadata": {},
   "outputs": [
    {
     "name": "stdout",
     "output_type": "stream",
     "text": [
      "           Names   Age   Dept  Salary  Promot\n",
      "0         logesh  21.0    EEE   100.0  1000.0\n",
      "1  nandhakishore  25.0     IT   110.0  1100.0\n",
      "2         jothis   NaN    ECE    95.0   950.0\n",
      "3           Podi   2.0   MECH   120.0  1200.0\n",
      "4         sairam  37.0  CIVIL   118.0  1180.0\n",
      "5          ezhil  10.0    CSE     NaN     NaN\n",
      "6        prakash  30.0   AIML   105.0  1050.0\n"
     ]
    }
   ],
   "source": [
    "res=res.drop_duplicates()\n",
    "print(res)"
   ]
  },
  {
   "cell_type": "markdown",
   "id": "e1fcc6ec-e6e4-44b1-bb29-f357831f837a",
   "metadata": {},
   "source": [
    "INVALID VALUES"
   ]
  },
  {
   "cell_type": "code",
   "execution_count": 1013,
   "id": "965dbe88-c3fd-4077-adc7-4ec4a8e18032",
   "metadata": {},
   "outputs": [
    {
     "name": "stdout",
     "output_type": "stream",
     "text": [
      "           Names   Age   Dept  Salary  Promot\n",
      "0         logesh  21.0    EEE   100.0   100.0\n",
      "1  nandhakishore  25.0     IT   110.0   110.0\n",
      "2         jothis   NaN    ECE    95.0    95.0\n",
      "3           Podi   2.0   MECH   120.0   120.0\n",
      "4         sairam  37.0  CIVIL   118.0   118.0\n",
      "5          ezhil  10.0    CSE     NaN     NaN\n",
      "6        prakash  30.0   AIML   105.0   105.0\n"
     ]
    },
    {
     "name": "stderr",
     "output_type": "stream",
     "text": [
      "C:\\Users\\kongu\\AppData\\Local\\Temp\\ipykernel_20380\\2438464164.py:2: SettingWithCopyWarning: \n",
      "A value is trying to be set on a copy of a slice from a DataFrame.\n",
      "Try using .loc[row_indexer,col_indexer] = value instead\n",
      "\n",
      "See the caveats in the documentation: https://pandas.pydata.org/pandas-docs/stable/user_guide/indexing.html#returning-a-view-versus-a-copy\n",
      "  res[\"Promot\"]=res[\"Promot\"].apply(lambda x: x/10 if x>50 else x)\n"
     ]
    }
   ],
   "source": [
    "# LAMBDA -->PYTHON\n",
    "res[\"Promot\"]=res[\"Promot\"].apply(lambda x: x/10 if x>50 else x)\n",
    "print(res)"
   ]
  },
  {
   "cell_type": "code",
   "execution_count": null,
   "id": "90ecefdd-7e86-4da3-8387-a34ed7e9fca4",
   "metadata": {},
   "outputs": [],
   "source": [
    "res[[\"first_name\",\"last_name\"]]=res[\"Names\"]"
   ]
  },
  {
   "cell_type": "code",
   "execution_count": 1017,
   "id": "e1fed011-d6d8-4e43-bb38-6a4ce4b52c38",
   "metadata": {},
   "outputs": [
    {
     "name": "stdout",
     "output_type": "stream",
     "text": [
      "           Names   Age   Dept  Salary  Promot\n",
      "0         logesh  42.0    EEE   100.0   100.0\n",
      "1  nandhakishore  50.0     IT   110.0   110.0\n",
      "2         jothis   NaN    ECE    95.0    95.0\n",
      "3           Podi   4.0   MECH   120.0   120.0\n",
      "4         sairam  74.0  CIVIL   118.0   118.0\n",
      "5          ezhil  20.0    CSE     NaN     NaN\n",
      "6        prakash  60.0   AIML   105.0   105.0\n"
     ]
    },
    {
     "name": "stderr",
     "output_type": "stream",
     "text": [
      "C:\\Users\\kongu\\AppData\\Local\\Temp\\ipykernel_20380\\3558439111.py:4: SettingWithCopyWarning: \n",
      "A value is trying to be set on a copy of a slice from a DataFrame.\n",
      "Try using .loc[row_indexer,col_indexer] = value instead\n",
      "\n",
      "See the caveats in the documentation: https://pandas.pydata.org/pandas-docs/stable/user_guide/indexing.html#returning-a-view-versus-a-copy\n",
      "  res[\"Age\"]=res[\"Age\"].apply(multiple)\n"
     ]
    }
   ],
   "source": [
    "def multiple(x):\n",
    "    return x*2\n",
    "# res[\"Age\"]=res[\"Age\"].apply(lambda x: x*2)\n",
    "res[\"Age\"]=res[\"Age\"].apply(multiple)\n",
    "print(res)\n"
   ]
  },
  {
   "cell_type": "code",
   "execution_count": 1020,
   "id": "8616e034-497f-4e36-ad55-913d304aaf38",
   "metadata": {},
   "outputs": [
    {
     "name": "stdout",
     "output_type": "stream",
     "text": [
      "           Names   Age   Dept  Salary  Promot\n",
      "0         logesh  21.0    EEE   100.0   100.0\n",
      "1  nandhakishore  25.0     IT   110.0   110.0\n",
      "2         jothis   NaN    ECE    95.0    95.0\n",
      "3           Podi   2.0   MECH   120.0   120.0\n",
      "4         sairam  37.0  CIVIL   118.0   118.0\n",
      "5          ezhil  10.0    CSE     NaN     NaN\n",
      "6        prakash  30.0   AIML   105.0   105.0\n"
     ]
    },
    {
     "name": "stderr",
     "output_type": "stream",
     "text": [
      "C:\\Users\\kongu\\AppData\\Local\\Temp\\ipykernel_20380\\1071242295.py:1: SettingWithCopyWarning: \n",
      "A value is trying to be set on a copy of a slice from a DataFrame.\n",
      "Try using .loc[row_indexer,col_indexer] = value instead\n",
      "\n",
      "See the caveats in the documentation: https://pandas.pydata.org/pandas-docs/stable/user_guide/indexing.html#returning-a-view-versus-a-copy\n",
      "  res[\"Age\"]=res[\"Age\"].apply(lambda x:x/2)\n"
     ]
    }
   ],
   "source": [
    "res[\"Age\"]=res[\"Age\"].apply(lambda x:x/2)\n",
    "print(res)"
   ]
  },
  {
   "cell_type": "code",
   "execution_count": 1022,
   "id": "05129d1b-c776-4895-b2dc-1ee450888abe",
   "metadata": {},
   "outputs": [
    {
     "data": {
      "text/html": [
       "<div>\n",
       "<style scoped>\n",
       "    .dataframe tbody tr th:only-of-type {\n",
       "        vertical-align: middle;\n",
       "    }\n",
       "\n",
       "    .dataframe tbody tr th {\n",
       "        vertical-align: top;\n",
       "    }\n",
       "\n",
       "    .dataframe thead th {\n",
       "        text-align: right;\n",
       "    }\n",
       "</style>\n",
       "<table border=\"1\" class=\"dataframe\">\n",
       "  <thead>\n",
       "    <tr style=\"text-align: right;\">\n",
       "      <th></th>\n",
       "      <th>Names</th>\n",
       "      <th>Age</th>\n",
       "      <th>Dept</th>\n",
       "      <th>Salary</th>\n",
       "      <th>Promot</th>\n",
       "    </tr>\n",
       "  </thead>\n",
       "  <tbody>\n",
       "    <tr>\n",
       "      <th>0</th>\n",
       "      <td>logesh</td>\n",
       "      <td>21.0</td>\n",
       "      <td>EEE</td>\n",
       "      <td>100.0</td>\n",
       "      <td>100.0</td>\n",
       "    </tr>\n",
       "    <tr>\n",
       "      <th>1</th>\n",
       "      <td>nandhakishore</td>\n",
       "      <td>25.0</td>\n",
       "      <td>IT</td>\n",
       "      <td>110.0</td>\n",
       "      <td>110.0</td>\n",
       "    </tr>\n",
       "    <tr>\n",
       "      <th>2</th>\n",
       "      <td>jothis</td>\n",
       "      <td>NaN</td>\n",
       "      <td>ECE</td>\n",
       "      <td>95.0</td>\n",
       "      <td>95.0</td>\n",
       "    </tr>\n",
       "    <tr>\n",
       "      <th>3</th>\n",
       "      <td>Podi</td>\n",
       "      <td>2.0</td>\n",
       "      <td>MECH</td>\n",
       "      <td>120.0</td>\n",
       "      <td>120.0</td>\n",
       "    </tr>\n",
       "    <tr>\n",
       "      <th>4</th>\n",
       "      <td>sairam</td>\n",
       "      <td>37.0</td>\n",
       "      <td>CIVIL</td>\n",
       "      <td>118.0</td>\n",
       "      <td>118.0</td>\n",
       "    </tr>\n",
       "    <tr>\n",
       "      <th>5</th>\n",
       "      <td>ezhil</td>\n",
       "      <td>10.0</td>\n",
       "      <td>CSE</td>\n",
       "      <td>NaN</td>\n",
       "      <td>NaN</td>\n",
       "    </tr>\n",
       "    <tr>\n",
       "      <th>6</th>\n",
       "      <td>prakash</td>\n",
       "      <td>30.0</td>\n",
       "      <td>AIML</td>\n",
       "      <td>105.0</td>\n",
       "      <td>105.0</td>\n",
       "    </tr>\n",
       "  </tbody>\n",
       "</table>\n",
       "</div>"
      ],
      "text/plain": [
       "           Names   Age   Dept  Salary  Promot\n",
       "0         logesh  21.0    EEE   100.0   100.0\n",
       "1  nandhakishore  25.0     IT   110.0   110.0\n",
       "2         jothis   NaN    ECE    95.0    95.0\n",
       "3           Podi   2.0   MECH   120.0   120.0\n",
       "4         sairam  37.0  CIVIL   118.0   118.0\n",
       "5          ezhil  10.0    CSE     NaN     NaN\n",
       "6        prakash  30.0   AIML   105.0   105.0"
      ]
     },
     "execution_count": 1022,
     "metadata": {},
     "output_type": "execute_result"
    }
   ],
   "source": [
    "res"
   ]
  },
  {
   "cell_type": "code",
   "execution_count": 1024,
   "id": "a94ee91e-dff9-4d21-989f-b973131ca6a9",
   "metadata": {},
   "outputs": [
    {
     "name": "stdout",
     "output_type": "stream",
     "text": [
      "     Name     City  Age  Score    JoinDate\n",
      "0    Arun  Chennai   24   88.5  2023-01-15\n",
      "1  Bhavna   Mumbai   27   91.2  2022-11-20\n",
      "2  Chetan  Chennai   22   88.9  2023-01-25\n",
      "3    Diya    Delhi   32   95.0  2021-05-10\n",
      "4    Elan   Mumbai   29   85.8  2022-11-22\n",
      "5   Farah    Delhi   35   92.3  2021-04-18\n"
     ]
    }
   ],
   "source": [
    "dept = {\n",
    "    'Name': ['Arun', 'Bhavna', 'Chetan', 'Diya', 'Elan', 'Farah'],\n",
    "    'City': ['Chennai', 'Mumbai', 'Chennai', 'Delhi', 'Mumbai', 'Delhi'],\n",
    "    'Age': [24, 27, 22, 32, 29, 35],\n",
    "    'Score': [88.5, 91.2, 88.9, 95.0, 85.8, 92.3],\n",
    "    'JoinDate': ['2023-01-15', '2022-11-20', '2023-01-25', '2021-05-10', '2022-11-22', '2021-04-18']\n",
    "}\n",
    "fin=pd.DataFrame(dept)\n",
    "print(fin)"
   ]
  },
  {
   "cell_type": "code",
   "execution_count": 1026,
   "id": "4188a0a8-552a-4cac-a35c-e3ab77ae53ce",
   "metadata": {},
   "outputs": [
    {
     "data": {
      "text/html": [
       "<div>\n",
       "<style scoped>\n",
       "    .dataframe tbody tr th:only-of-type {\n",
       "        vertical-align: middle;\n",
       "    }\n",
       "\n",
       "    .dataframe tbody tr th {\n",
       "        vertical-align: top;\n",
       "    }\n",
       "\n",
       "    .dataframe thead th {\n",
       "        text-align: right;\n",
       "    }\n",
       "</style>\n",
       "<table border=\"1\" class=\"dataframe\">\n",
       "  <thead>\n",
       "    <tr style=\"text-align: right;\">\n",
       "      <th></th>\n",
       "      <th>Names</th>\n",
       "      <th>Age</th>\n",
       "      <th>Dept</th>\n",
       "      <th>Salary</th>\n",
       "      <th>Promot</th>\n",
       "      <th>Name</th>\n",
       "      <th>City</th>\n",
       "      <th>Score</th>\n",
       "      <th>JoinDate</th>\n",
       "    </tr>\n",
       "  </thead>\n",
       "  <tbody>\n",
       "    <tr>\n",
       "      <th>0</th>\n",
       "      <td>logesh</td>\n",
       "      <td>21.0</td>\n",
       "      <td>EEE</td>\n",
       "      <td>100.0</td>\n",
       "      <td>100.0</td>\n",
       "      <td>NaN</td>\n",
       "      <td>NaN</td>\n",
       "      <td>NaN</td>\n",
       "      <td>NaN</td>\n",
       "    </tr>\n",
       "    <tr>\n",
       "      <th>1</th>\n",
       "      <td>nandhakishore</td>\n",
       "      <td>25.0</td>\n",
       "      <td>IT</td>\n",
       "      <td>110.0</td>\n",
       "      <td>110.0</td>\n",
       "      <td>NaN</td>\n",
       "      <td>NaN</td>\n",
       "      <td>NaN</td>\n",
       "      <td>NaN</td>\n",
       "    </tr>\n",
       "    <tr>\n",
       "      <th>2</th>\n",
       "      <td>jothis</td>\n",
       "      <td>NaN</td>\n",
       "      <td>ECE</td>\n",
       "      <td>95.0</td>\n",
       "      <td>95.0</td>\n",
       "      <td>NaN</td>\n",
       "      <td>NaN</td>\n",
       "      <td>NaN</td>\n",
       "      <td>NaN</td>\n",
       "    </tr>\n",
       "    <tr>\n",
       "      <th>3</th>\n",
       "      <td>Podi</td>\n",
       "      <td>2.0</td>\n",
       "      <td>MECH</td>\n",
       "      <td>120.0</td>\n",
       "      <td>120.0</td>\n",
       "      <td>NaN</td>\n",
       "      <td>NaN</td>\n",
       "      <td>NaN</td>\n",
       "      <td>NaN</td>\n",
       "    </tr>\n",
       "    <tr>\n",
       "      <th>4</th>\n",
       "      <td>sairam</td>\n",
       "      <td>37.0</td>\n",
       "      <td>CIVIL</td>\n",
       "      <td>118.0</td>\n",
       "      <td>118.0</td>\n",
       "      <td>NaN</td>\n",
       "      <td>NaN</td>\n",
       "      <td>NaN</td>\n",
       "      <td>NaN</td>\n",
       "    </tr>\n",
       "    <tr>\n",
       "      <th>5</th>\n",
       "      <td>ezhil</td>\n",
       "      <td>10.0</td>\n",
       "      <td>CSE</td>\n",
       "      <td>NaN</td>\n",
       "      <td>NaN</td>\n",
       "      <td>NaN</td>\n",
       "      <td>NaN</td>\n",
       "      <td>NaN</td>\n",
       "      <td>NaN</td>\n",
       "    </tr>\n",
       "    <tr>\n",
       "      <th>6</th>\n",
       "      <td>prakash</td>\n",
       "      <td>30.0</td>\n",
       "      <td>AIML</td>\n",
       "      <td>105.0</td>\n",
       "      <td>105.0</td>\n",
       "      <td>NaN</td>\n",
       "      <td>NaN</td>\n",
       "      <td>NaN</td>\n",
       "      <td>NaN</td>\n",
       "    </tr>\n",
       "    <tr>\n",
       "      <th>0</th>\n",
       "      <td>NaN</td>\n",
       "      <td>24.0</td>\n",
       "      <td>NaN</td>\n",
       "      <td>NaN</td>\n",
       "      <td>NaN</td>\n",
       "      <td>Arun</td>\n",
       "      <td>Chennai</td>\n",
       "      <td>88.5</td>\n",
       "      <td>2023-01-15</td>\n",
       "    </tr>\n",
       "    <tr>\n",
       "      <th>1</th>\n",
       "      <td>NaN</td>\n",
       "      <td>27.0</td>\n",
       "      <td>NaN</td>\n",
       "      <td>NaN</td>\n",
       "      <td>NaN</td>\n",
       "      <td>Bhavna</td>\n",
       "      <td>Mumbai</td>\n",
       "      <td>91.2</td>\n",
       "      <td>2022-11-20</td>\n",
       "    </tr>\n",
       "    <tr>\n",
       "      <th>2</th>\n",
       "      <td>NaN</td>\n",
       "      <td>22.0</td>\n",
       "      <td>NaN</td>\n",
       "      <td>NaN</td>\n",
       "      <td>NaN</td>\n",
       "      <td>Chetan</td>\n",
       "      <td>Chennai</td>\n",
       "      <td>88.9</td>\n",
       "      <td>2023-01-25</td>\n",
       "    </tr>\n",
       "    <tr>\n",
       "      <th>3</th>\n",
       "      <td>NaN</td>\n",
       "      <td>32.0</td>\n",
       "      <td>NaN</td>\n",
       "      <td>NaN</td>\n",
       "      <td>NaN</td>\n",
       "      <td>Diya</td>\n",
       "      <td>Delhi</td>\n",
       "      <td>95.0</td>\n",
       "      <td>2021-05-10</td>\n",
       "    </tr>\n",
       "    <tr>\n",
       "      <th>4</th>\n",
       "      <td>NaN</td>\n",
       "      <td>29.0</td>\n",
       "      <td>NaN</td>\n",
       "      <td>NaN</td>\n",
       "      <td>NaN</td>\n",
       "      <td>Elan</td>\n",
       "      <td>Mumbai</td>\n",
       "      <td>85.8</td>\n",
       "      <td>2022-11-22</td>\n",
       "    </tr>\n",
       "    <tr>\n",
       "      <th>5</th>\n",
       "      <td>NaN</td>\n",
       "      <td>35.0</td>\n",
       "      <td>NaN</td>\n",
       "      <td>NaN</td>\n",
       "      <td>NaN</td>\n",
       "      <td>Farah</td>\n",
       "      <td>Delhi</td>\n",
       "      <td>92.3</td>\n",
       "      <td>2021-04-18</td>\n",
       "    </tr>\n",
       "  </tbody>\n",
       "</table>\n",
       "</div>"
      ],
      "text/plain": [
       "           Names   Age   Dept  Salary  Promot    Name     City  Score  \\\n",
       "0         logesh  21.0    EEE   100.0   100.0     NaN      NaN    NaN   \n",
       "1  nandhakishore  25.0     IT   110.0   110.0     NaN      NaN    NaN   \n",
       "2         jothis   NaN    ECE    95.0    95.0     NaN      NaN    NaN   \n",
       "3           Podi   2.0   MECH   120.0   120.0     NaN      NaN    NaN   \n",
       "4         sairam  37.0  CIVIL   118.0   118.0     NaN      NaN    NaN   \n",
       "5          ezhil  10.0    CSE     NaN     NaN     NaN      NaN    NaN   \n",
       "6        prakash  30.0   AIML   105.0   105.0     NaN      NaN    NaN   \n",
       "0            NaN  24.0    NaN     NaN     NaN    Arun  Chennai   88.5   \n",
       "1            NaN  27.0    NaN     NaN     NaN  Bhavna   Mumbai   91.2   \n",
       "2            NaN  22.0    NaN     NaN     NaN  Chetan  Chennai   88.9   \n",
       "3            NaN  32.0    NaN     NaN     NaN    Diya    Delhi   95.0   \n",
       "4            NaN  29.0    NaN     NaN     NaN    Elan   Mumbai   85.8   \n",
       "5            NaN  35.0    NaN     NaN     NaN   Farah    Delhi   92.3   \n",
       "\n",
       "     JoinDate  \n",
       "0         NaN  \n",
       "1         NaN  \n",
       "2         NaN  \n",
       "3         NaN  \n",
       "4         NaN  \n",
       "5         NaN  \n",
       "6         NaN  \n",
       "0  2023-01-15  \n",
       "1  2022-11-20  \n",
       "2  2023-01-25  \n",
       "3  2021-05-10  \n",
       "4  2022-11-22  \n",
       "5  2021-04-18  "
      ]
     },
     "execution_count": 1026,
     "metadata": {},
     "output_type": "execute_result"
    }
   ],
   "source": [
    "pd.concat([res,fin])"
   ]
  },
  {
   "cell_type": "code",
   "execution_count": 1028,
   "id": "223bbc59-f40b-4540-bf5c-3182a2ca531d",
   "metadata": {},
   "outputs": [
    {
     "data": {
      "text/html": [
       "<div>\n",
       "<style scoped>\n",
       "    .dataframe tbody tr th:only-of-type {\n",
       "        vertical-align: middle;\n",
       "    }\n",
       "\n",
       "    .dataframe tbody tr th {\n",
       "        vertical-align: top;\n",
       "    }\n",
       "\n",
       "    .dataframe thead th {\n",
       "        text-align: right;\n",
       "    }\n",
       "</style>\n",
       "<table border=\"1\" class=\"dataframe\">\n",
       "  <thead>\n",
       "    <tr style=\"text-align: right;\">\n",
       "      <th></th>\n",
       "      <th>Names</th>\n",
       "      <th>Age</th>\n",
       "      <th>Dept</th>\n",
       "      <th>Salary</th>\n",
       "      <th>Promot</th>\n",
       "      <th>Name</th>\n",
       "      <th>City</th>\n",
       "      <th>Age</th>\n",
       "      <th>Score</th>\n",
       "      <th>JoinDate</th>\n",
       "    </tr>\n",
       "  </thead>\n",
       "  <tbody>\n",
       "    <tr>\n",
       "      <th>0</th>\n",
       "      <td>logesh</td>\n",
       "      <td>21.0</td>\n",
       "      <td>EEE</td>\n",
       "      <td>100.0</td>\n",
       "      <td>100.0</td>\n",
       "      <td>Arun</td>\n",
       "      <td>Chennai</td>\n",
       "      <td>24.0</td>\n",
       "      <td>88.5</td>\n",
       "      <td>2023-01-15</td>\n",
       "    </tr>\n",
       "    <tr>\n",
       "      <th>1</th>\n",
       "      <td>nandhakishore</td>\n",
       "      <td>25.0</td>\n",
       "      <td>IT</td>\n",
       "      <td>110.0</td>\n",
       "      <td>110.0</td>\n",
       "      <td>Bhavna</td>\n",
       "      <td>Mumbai</td>\n",
       "      <td>27.0</td>\n",
       "      <td>91.2</td>\n",
       "      <td>2022-11-20</td>\n",
       "    </tr>\n",
       "    <tr>\n",
       "      <th>2</th>\n",
       "      <td>jothis</td>\n",
       "      <td>NaN</td>\n",
       "      <td>ECE</td>\n",
       "      <td>95.0</td>\n",
       "      <td>95.0</td>\n",
       "      <td>Chetan</td>\n",
       "      <td>Chennai</td>\n",
       "      <td>22.0</td>\n",
       "      <td>88.9</td>\n",
       "      <td>2023-01-25</td>\n",
       "    </tr>\n",
       "    <tr>\n",
       "      <th>3</th>\n",
       "      <td>Podi</td>\n",
       "      <td>2.0</td>\n",
       "      <td>MECH</td>\n",
       "      <td>120.0</td>\n",
       "      <td>120.0</td>\n",
       "      <td>Diya</td>\n",
       "      <td>Delhi</td>\n",
       "      <td>32.0</td>\n",
       "      <td>95.0</td>\n",
       "      <td>2021-05-10</td>\n",
       "    </tr>\n",
       "    <tr>\n",
       "      <th>4</th>\n",
       "      <td>sairam</td>\n",
       "      <td>37.0</td>\n",
       "      <td>CIVIL</td>\n",
       "      <td>118.0</td>\n",
       "      <td>118.0</td>\n",
       "      <td>Elan</td>\n",
       "      <td>Mumbai</td>\n",
       "      <td>29.0</td>\n",
       "      <td>85.8</td>\n",
       "      <td>2022-11-22</td>\n",
       "    </tr>\n",
       "    <tr>\n",
       "      <th>5</th>\n",
       "      <td>ezhil</td>\n",
       "      <td>10.0</td>\n",
       "      <td>CSE</td>\n",
       "      <td>NaN</td>\n",
       "      <td>NaN</td>\n",
       "      <td>Farah</td>\n",
       "      <td>Delhi</td>\n",
       "      <td>35.0</td>\n",
       "      <td>92.3</td>\n",
       "      <td>2021-04-18</td>\n",
       "    </tr>\n",
       "    <tr>\n",
       "      <th>6</th>\n",
       "      <td>prakash</td>\n",
       "      <td>30.0</td>\n",
       "      <td>AIML</td>\n",
       "      <td>105.0</td>\n",
       "      <td>105.0</td>\n",
       "      <td>NaN</td>\n",
       "      <td>NaN</td>\n",
       "      <td>NaN</td>\n",
       "      <td>NaN</td>\n",
       "      <td>NaN</td>\n",
       "    </tr>\n",
       "  </tbody>\n",
       "</table>\n",
       "</div>"
      ],
      "text/plain": [
       "           Names   Age   Dept  Salary  Promot    Name     City   Age  Score  \\\n",
       "0         logesh  21.0    EEE   100.0   100.0    Arun  Chennai  24.0   88.5   \n",
       "1  nandhakishore  25.0     IT   110.0   110.0  Bhavna   Mumbai  27.0   91.2   \n",
       "2         jothis   NaN    ECE    95.0    95.0  Chetan  Chennai  22.0   88.9   \n",
       "3           Podi   2.0   MECH   120.0   120.0    Diya    Delhi  32.0   95.0   \n",
       "4         sairam  37.0  CIVIL   118.0   118.0    Elan   Mumbai  29.0   85.8   \n",
       "5          ezhil  10.0    CSE     NaN     NaN   Farah    Delhi  35.0   92.3   \n",
       "6        prakash  30.0   AIML   105.0   105.0     NaN      NaN   NaN    NaN   \n",
       "\n",
       "     JoinDate  \n",
       "0  2023-01-15  \n",
       "1  2022-11-20  \n",
       "2  2023-01-25  \n",
       "3  2021-05-10  \n",
       "4  2022-11-22  \n",
       "5  2021-04-18  \n",
       "6         NaN  "
      ]
     },
     "execution_count": 1028,
     "metadata": {},
     "output_type": "execute_result"
    }
   ],
   "source": [
    "pd.concat([res,fin], axis=1)"
   ]
  },
  {
   "cell_type": "code",
   "execution_count": 1067,
   "id": "6ba2b339-2411-45db-bb85-a34f5774e63e",
   "metadata": {},
   "outputs": [
    {
     "data": {
      "text/html": [
       "<div>\n",
       "<style scoped>\n",
       "    .dataframe tbody tr th:only-of-type {\n",
       "        vertical-align: middle;\n",
       "    }\n",
       "\n",
       "    .dataframe tbody tr th {\n",
       "        vertical-align: top;\n",
       "    }\n",
       "\n",
       "    .dataframe thead th {\n",
       "        text-align: right;\n",
       "    }\n",
       "</style>\n",
       "<table border=\"1\" class=\"dataframe\">\n",
       "  <thead>\n",
       "    <tr style=\"text-align: right;\">\n",
       "      <th></th>\n",
       "      <th>S.NO</th>\n",
       "      <th>Regno</th>\n",
       "      <th>Student Name</th>\n",
       "      <th>Father name</th>\n",
       "      <th>Department</th>\n",
       "      <th>Aadhar number</th>\n",
       "      <th>PAN NUMBER</th>\n",
       "      <th>Primary mail id</th>\n",
       "      <th>Secondary Mail id</th>\n",
       "      <th>Student Phone Number</th>\n",
       "      <th>...</th>\n",
       "      <th>10th year of passing</th>\n",
       "      <th>12th School Name</th>\n",
       "      <th>12th year of passing</th>\n",
       "      <th>Diploma \\n%</th>\n",
       "      <th>Diploma College Name</th>\n",
       "      <th>Address(Full Address)</th>\n",
       "      <th>Native Place</th>\n",
       "      <th>12th Cut off</th>\n",
       "      <th>District</th>\n",
       "      <th>Resume Link(public)</th>\n",
       "    </tr>\n",
       "  </thead>\n",
       "  <tbody>\n",
       "    <tr>\n",
       "      <th>0</th>\n",
       "      <td>1</td>\n",
       "      <td>922522105001</td>\n",
       "      <td>Abishree T</td>\n",
       "      <td>Thirumoorthi N</td>\n",
       "      <td>EEE</td>\n",
       "      <td>2884 5322 6998</td>\n",
       "      <td>CHEPT4874L</td>\n",
       "      <td>abithiru2005@gmail.com</td>\n",
       "      <td>abishreethiru@gmail.com</td>\n",
       "      <td>8903742115</td>\n",
       "      <td>...</td>\n",
       "      <td>2020</td>\n",
       "      <td>Bala Matriculation Higher Secondary School, Ve...</td>\n",
       "      <td>2022</td>\n",
       "      <td>NaN</td>\n",
       "      <td>NaN</td>\n",
       "      <td>633/A1A, kadaieashwarar thottam, Kadaiyuran va...</td>\n",
       "      <td>Kadaiyuran valasu, Vellakoil</td>\n",
       "      <td>159.5</td>\n",
       "      <td>Tiruppur</td>\n",
       "      <td>https://drive.google.com/drive/folders/1w0ZTwQ...</td>\n",
       "    </tr>\n",
       "    <tr>\n",
       "      <th>1</th>\n",
       "      <td>2</td>\n",
       "      <td>922522105002</td>\n",
       "      <td>Balaji.S</td>\n",
       "      <td>Sakthivel.C</td>\n",
       "      <td>EEE</td>\n",
       "      <td>944779651367</td>\n",
       "      <td>TJEPS3292C</td>\n",
       "      <td>balajipmb6@gmail.com</td>\n",
       "      <td>balajisakthiveleee2@gmail.com</td>\n",
       "      <td>6374722455</td>\n",
       "      <td>...</td>\n",
       "      <td>2020</td>\n",
       "      <td>Kalaikovil vidhya mandhir matric higher sconda...</td>\n",
       "      <td>2022</td>\n",
       "      <td>NaN</td>\n",
       "      <td>NaN</td>\n",
       "      <td>85,Appiyampatti,T.G valasu(po),Oddanchatram(Tk...</td>\n",
       "      <td>Appiyampatti</td>\n",
       "      <td>119.5</td>\n",
       "      <td>Dindigul</td>\n",
       "      <td>https://drive.google.com/drive/folders/1yvBdia...</td>\n",
       "    </tr>\n",
       "  </tbody>\n",
       "</table>\n",
       "<p>2 rows × 25 columns</p>\n",
       "</div>"
      ],
      "text/plain": [
       "   S.NO         Regno Student Name     Father name  Department  \\\n",
       "0     1  922522105001   Abishree T   Thirumoorthi N        EEE   \n",
       "1     2  922522105002      Balaji.S     Sakthivel.C        EEE   \n",
       "\n",
       "   Aadhar number   PAN NUMBER         Primary mail id  \\\n",
       "0  2884 5322 6998  CHEPT4874L  abithiru2005@gmail.com   \n",
       "1    944779651367  TJEPS3292C    balajipmb6@gmail.com   \n",
       "\n",
       "               Secondary Mail id  Student Phone Number   ...  \\\n",
       "0        abishreethiru@gmail.com             8903742115  ...   \n",
       "1  balajisakthiveleee2@gmail.com             6374722455  ...   \n",
       "\n",
       "   10th year of passing                                   12th School Name  \\\n",
       "0                  2020  Bala Matriculation Higher Secondary School, Ve...   \n",
       "1                  2020  Kalaikovil vidhya mandhir matric higher sconda...   \n",
       "\n",
       "   12th year of passing   Diploma \\n% Diploma College Name   \\\n",
       "0                   2022          NaN                   NaN   \n",
       "1                   2022          NaN                   NaN   \n",
       "\n",
       "                               Address(Full Address)  \\\n",
       "0  633/A1A, kadaieashwarar thottam, Kadaiyuran va...   \n",
       "1  85,Appiyampatti,T.G valasu(po),Oddanchatram(Tk...   \n",
       "\n",
       "                   Native Place  12th Cut off  District   \\\n",
       "0  Kadaiyuran valasu, Vellakoil         159.5   Tiruppur   \n",
       "1                  Appiyampatti         119.5   Dindigul   \n",
       "\n",
       "                                 Resume Link(public)  \n",
       "0  https://drive.google.com/drive/folders/1w0ZTwQ...  \n",
       "1  https://drive.google.com/drive/folders/1yvBdia...  \n",
       "\n",
       "[2 rows x 25 columns]"
      ]
     },
     "execution_count": 1067,
     "metadata": {},
     "output_type": "execute_result"
    }
   ],
   "source": [
    "dataa=pd.read_excel(\"D:/College/EEE_DATABASE.xlsx\")\n",
    "dataa.head(2)"
   ]
  },
  {
   "cell_type": "code",
   "execution_count": 1053,
   "id": "8f5c733b-7069-4d22-bfd9-896c55a8cd90",
   "metadata": {},
   "outputs": [
    {
     "data": {
      "text/plain": [
       "(63, 12)"
      ]
     },
     "execution_count": 1053,
     "metadata": {},
     "output_type": "execute_result"
    }
   ],
   "source": [
    "dataa.shape"
   ]
  },
  {
   "cell_type": "code",
   "execution_count": null,
   "id": "d3e36199-cc53-4166-9902-6f8c5b51730d",
   "metadata": {},
   "outputs": [],
   "source": []
  }
 ],
 "metadata": {
  "kernelspec": {
   "display_name": "Python [conda env:base] *",
   "language": "python",
   "name": "conda-base-py"
  },
  "language_info": {
   "codemirror_mode": {
    "name": "ipython",
    "version": 3
   },
   "file_extension": ".py",
   "mimetype": "text/x-python",
   "name": "python",
   "nbconvert_exporter": "python",
   "pygments_lexer": "ipython3",
   "version": "3.12.7"
  }
 },
 "nbformat": 4,
 "nbformat_minor": 5
}
